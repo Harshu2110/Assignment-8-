{
 "cells": [
  {
   "cell_type": "code",
   "execution_count": 14,
   "id": "d57cc6f8",
   "metadata": {},
   "outputs": [
    {
     "name": "stdout",
     "output_type": "stream",
     "text": [
      "Collecting pyinputplus\n",
      "  Downloading PyInputPlus-0.2.12.tar.gz (20 kB)\n",
      "  Installing build dependencies: started\n",
      "  Installing build dependencies: finished with status 'done'\n",
      "  Getting requirements to build wheel: started\n",
      "  Getting requirements to build wheel: finished with status 'done'\n",
      "    Preparing wheel metadata: started\n",
      "    Preparing wheel metadata: finished with status 'done'\n",
      "Collecting stdiomask>=0.0.3\n",
      "  Downloading stdiomask-0.0.6.tar.gz (3.6 kB)\n",
      "  Installing build dependencies: started\n",
      "  Installing build dependencies: finished with status 'done'\n",
      "  Getting requirements to build wheel: started\n",
      "  Getting requirements to build wheel: finished with status 'done'\n",
      "    Preparing wheel metadata: started\n",
      "    Preparing wheel metadata: finished with status 'done'\n",
      "Collecting pysimplevalidate>=0.2.7\n",
      "  Downloading PySimpleValidate-0.2.12.tar.gz (22 kB)\n",
      "  Installing build dependencies: started\n",
      "  Installing build dependencies: finished with status 'done'\n",
      "  Getting requirements to build wheel: started\n",
      "  Getting requirements to build wheel: finished with status 'done'\n",
      "    Preparing wheel metadata: started\n",
      "    Preparing wheel metadata: finished with status 'done'\n",
      "Building wheels for collected packages: pyinputplus, pysimplevalidate, stdiomask\n",
      "  Building wheel for pyinputplus (PEP 517): started\n",
      "  Building wheel for pyinputplus (PEP 517): finished with status 'done'\n",
      "  Created wheel for pyinputplus: filename=PyInputPlus-0.2.12-py3-none-any.whl size=11320 sha256=3a1fb503090b1be66ec27dea5754eb63855372fe54b58b6e059d4b44be88b053\n",
      "  Stored in directory: c:\\users\\harshal\\appdata\\local\\pip\\cache\\wheels\\b4\\6e\\2f\\8a852732646cabec36c3fe8fc060ec5bea1c1be711432c47f7\n",
      "  Building wheel for pysimplevalidate (PEP 517): started\n",
      "  Building wheel for pysimplevalidate (PEP 517): finished with status 'done'\n",
      "  Created wheel for pysimplevalidate: filename=PySimpleValidate-0.2.12-py3-none-any.whl size=16204 sha256=2c19a16ed1211db7cf6fbcb0a50a86d85de196ad95eebc25012ce3d84ede295f\n",
      "  Stored in directory: c:\\users\\harshal\\appdata\\local\\pip\\cache\\wheels\\b1\\44\\4a\\043a4f4c4512c7cdfb0c2b8408b18b0de5fd45cac57f5dfa02\n",
      "  Building wheel for stdiomask (PEP 517): started\n",
      "  Building wheel for stdiomask (PEP 517): finished with status 'done'\n",
      "  Created wheel for stdiomask: filename=stdiomask-0.0.6-py3-none-any.whl size=3320 sha256=ef09437cf374d396b9705d30d88faa55f5c06a05bf51865f60b79551187652ba\n",
      "  Stored in directory: c:\\users\\harshal\\appdata\\local\\pip\\cache\\wheels\\1d\\aa\\47\\f41f117d22c5de82e95d9342f44da578c80610739a2d5ebec4\n",
      "Successfully built pyinputplus pysimplevalidate stdiomask\n",
      "Installing collected packages: stdiomask, pysimplevalidate, pyinputplus\n",
      "Successfully installed pyinputplus-0.2.12 pysimplevalidate-0.2.12 stdiomask-0.0.6\n"
     ]
    }
   ],
   "source": [
    "\n",
    "!pip install pyinputplus\n"
   ]
  },
  {
   "cell_type": "code",
   "execution_count": null,
   "id": "8cca4654",
   "metadata": {},
   "outputs": [],
   "source": [
    "1. Is the Python Standard Library included with PyInputPlus?"
   ]
  },
  {
   "cell_type": "code",
   "execution_count": null,
   "id": "e4c4a5c6",
   "metadata": {},
   "outputs": [],
   "source": [
    "Ans: Pyinputplus is a separate third-party library that needs to be installed separately. It is not a part of the Python Standard Library. "
   ]
  },
  {
   "cell_type": "code",
   "execution_count": null,
   "id": "3e48fef6",
   "metadata": {},
   "outputs": [],
   "source": [
    "2.Why is PyInputPlus commonly imported with import pyinputplus as pypi?"
   ]
  },
  {
   "cell_type": "code",
   "execution_count": null,
   "id": "4d7a5ef0",
   "metadata": {},
   "outputs": [],
   "source": [
    "Ans:  PyInputPlus is commonly imported using a shorter alias for convenience, pyinputplus is imported as pyip."
   ]
  },
  {
   "cell_type": "code",
   "execution_count": null,
   "id": "668531bd",
   "metadata": {},
   "outputs": [],
   "source": [
    "3. How do you distinguish between inputInt() and inputFloat()?"
   ]
  },
  {
   "cell_type": "code",
   "execution_count": null,
   "id": "fe4fdfae",
   "metadata": {},
   "outputs": [],
   "source": [
    "Ans: inputInt() : Accepts an integer value, and returns int value\n",
    "inputFloat() : Accepts integer/floating point value and returns float value"
   ]
  },
  {
   "cell_type": "code",
   "execution_count": null,
   "id": "4f40d0fd",
   "metadata": {},
   "outputs": [],
   "source": [
    "4. Using PyInputPlus, how do you ensure that the user enters a whole number between 0 and 99?"
   ]
  },
  {
   "cell_type": "code",
   "execution_count": null,
   "id": "9185a161",
   "metadata": {},
   "outputs": [],
   "source": [
    "Ans: To ensure that the user enters a whole number between 0 and 99 using PyInputPlus, we can use the inputInt() function along with the min and max parameters\n"
   ]
  },
  {
   "cell_type": "code",
   "execution_count": 1,
   "id": "8eaf72fe",
   "metadata": {},
   "outputs": [
    {
     "name": "stdout",
     "output_type": "stream",
     "text": [
      "Enter a whole number between 0 and 99: 100\n",
      "Number must be at maximum 99.\n",
      "Enter a whole number between 0 and 99: 55\n",
      "You entered: 55\n"
     ]
    }
   ],
   "source": [
    "import pyinputplus as pyip\n",
    "\n",
    "num = pyip.inputInt(prompt='Enter a whole number between 0 and 99: ', min=0, max=99)\n",
    "\n",
    "print(f\"You entered: {num}\")\n"
   ]
  },
  {
   "cell_type": "code",
   "execution_count": null,
   "id": "929d6365",
   "metadata": {},
   "outputs": [],
   "source": [
    "5. What is transferred to the keyword arguments allowRegexes and blockRegexes?"
   ]
  },
  {
   "cell_type": "code",
   "execution_count": null,
   "id": "10c1d279",
   "metadata": {},
   "outputs": [],
   "source": [
    "Ans: In PyInputPlus, the keyword arguments allowRegexes and blockRegexes are used to specify regular expressions that define patterns for allowed and blocked input values, respectively."
   ]
  },
  {
   "cell_type": "code",
   "execution_count": null,
   "id": "5acdc0ca",
   "metadata": {},
   "outputs": [],
   "source": [
    "6. If a blank input is entered three times, what does inputStr(limit=3) do?\n"
   ]
  },
  {
   "cell_type": "code",
   "execution_count": 4,
   "id": "32a77376",
   "metadata": {},
   "outputs": [
    {
     "name": "stdout",
     "output_type": "stream",
     "text": [
      "Enter a string: \n",
      "Blank values are not allowed.\n",
      "Enter a string: \n",
      "Blank values are not allowed.\n",
      "Enter a string: \n",
      "Blank values are not allowed.\n",
      "Exceeded retry limit. Please provide valid input.\n"
     ]
    }
   ],
   "source": [
    "import pyinputplus as pyip\n",
    "\n",
    "try:\n",
    "    user_input = pyip.inputStr(prompt='Enter a string: ', limit=3)\n",
    "except pyip.RetryLimitException:\n",
    "    print(\"Exceeded retry limit. Please provide valid input.\")\n",
    "else:\n",
    "    print(f\"You entered: {user_input}\")\n"
   ]
  },
  {
   "cell_type": "code",
   "execution_count": null,
   "id": "050fd13d",
   "metadata": {},
   "outputs": [],
   "source": [
    "7. If blank input is entered three times, what does inputStr(limit=3, default='hello') do?"
   ]
  },
  {
   "cell_type": "code",
   "execution_count": 5,
   "id": "e03ad466",
   "metadata": {},
   "outputs": [
    {
     "name": "stdout",
     "output_type": "stream",
     "text": [
      "Enter a string: \n",
      "Blank values are not allowed.\n",
      "Enter a string: \n",
      "Blank values are not allowed.\n",
      "Enter a string: \n",
      "Blank values are not allowed.\n",
      "You entered: hello\n"
     ]
    }
   ],
   "source": [
    "import pyinputplus as pyip\n",
    "\n",
    "user_input = pyip.inputStr(prompt='Enter a string: ', limit=3, default='hello')\n",
    "\n",
    "print(f\"You entered: {user_input}\")\n",
    "\n"
   ]
  },
  {
   "cell_type": "code",
   "execution_count": null,
   "id": "f51cd951",
   "metadata": {},
   "outputs": [],
   "source": []
  }
 ],
 "metadata": {
  "kernelspec": {
   "display_name": "Python 3 (ipykernel)",
   "language": "python",
   "name": "python3"
  },
  "language_info": {
   "codemirror_mode": {
    "name": "ipython",
    "version": 3
   },
   "file_extension": ".py",
   "mimetype": "text/x-python",
   "name": "python",
   "nbconvert_exporter": "python",
   "pygments_lexer": "ipython3",
   "version": "3.9.7"
  }
 },
 "nbformat": 4,
 "nbformat_minor": 5
}
